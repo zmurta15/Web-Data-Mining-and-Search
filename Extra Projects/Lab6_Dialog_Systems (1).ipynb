{
 "cells": [
  {
   "cell_type": "markdown",
   "metadata": {},
   "source": [
    "# Multimodal Conversational AI"
   ]
  },
  {
   "cell_type": "markdown",
   "metadata": {},
   "source": [
    "## User Intent detection"
   ]
  },
  {
   "cell_type": "code",
   "execution_count": 1,
   "metadata": {},
   "outputs": [],
   "source": [
    "import os\n",
    "import numpy as np\n",
    "import transformers\n",
    "import json\n",
    "\n",
    "from transformers import (\n",
    "    AutoModelForSequenceClassification,\n",
    "    AutoTokenizer,\n",
    "    Trainer,\n",
    "    TrainingArguments,\n",
    "    DataCollatorWithPadding\n",
    ")\n",
    "\n",
    "model_finetuned = './twiz-intent-model'\n",
    "with open(os.path.join(model_finetuned + '/all_intents.json'), 'r') as all_intents_json:\n",
    "    all_intents = json.load(all_intents_json) # contains the written out names of intents. also implicitly\n",
    "\n",
    "tokenizer_name = 'roberta-base' # try 'bert-base-uncased', 'bert-base-cased', 'bert-large-uncased'\n",
    "tokenizer = AutoTokenizer.from_pretrained(tokenizer_name) # loads a tokenizer\n",
    "\n",
    "model = AutoModelForSequenceClassification.from_pretrained(model_finetuned, \n",
    "                                                           num_labels=len(all_intents)) # Loads the BERT model weights\n"
   ]
  },
  {
   "cell_type": "code",
   "execution_count": 2,
   "metadata": {},
   "outputs": [
    {
     "data": {
      "text/plain": [
       "['GetCuriositiesIntent',\n",
       " 'GreetingIntent',\n",
       " 'AMAZON.SelectIntent',\n",
       " 'ShowStepsIntent',\n",
       " 'IdentifyRestrictionsIntent',\n",
       " 'ProvideUserNameIntent',\n",
       " 'MoreOptionsIntent',\n",
       " 'AMAZON.RepeatIntent',\n",
       " 'AMAZON.HelpIntent',\n",
       " 'QuestionIntent',\n",
       " 'MoreDetailIntent',\n",
       " 'AdjustServingsIntent',\n",
       " 'GoToStepIntent',\n",
       " 'SetTimerIntent',\n",
       " 'OutOfScopeIntent',\n",
       " 'AMAZON.FallbackIntent',\n",
       " 'PreviousStepIntent',\n",
       " 'TerminateCurrentTaskIntent',\n",
       " 'ChitChatIntent',\n",
       " 'CompleteTaskIntent',\n",
       " 'NoneOfTheseIntent',\n",
       " 'ShoppingIntent',\n",
       " 'AMAZON.PauseIntent',\n",
       " 'AMAZON.CancelIntent',\n",
       " 'StartStepsIntent',\n",
       " 'InappropriateIntent',\n",
       " 'AMAZON.NoIntent',\n",
       " 'SuggestionsIntent',\n",
       " 'ResumeTaskIntent',\n",
       " 'IngredientsConfirmationIntent',\n",
       " 'NextStepIntent',\n",
       " 'IdentifyProcessIntent',\n",
       " 'NoRestrictionsIntent',\n",
       " 'AMAZON.YesIntent',\n",
       " 'SubstitutionIntent',\n",
       " 'AMAZON.StopIntent']"
      ]
     },
     "execution_count": 2,
     "metadata": {},
     "output_type": "execute_result"
    }
   ],
   "source": [
    "all_intents"
   ]
  },
  {
   "cell_type": "code",
   "execution_count": 3,
   "metadata": {},
   "outputs": [
    {
     "data": {
      "text/plain": [
       "'IdentifyProcessIntent'"
      ]
     },
     "execution_count": 3,
     "metadata": {},
     "output_type": "execute_result"
    }
   ],
   "source": [
    "utterance = \"Can you find me a chicken recipe?\"\n",
    "\n",
    "input_encoding = tokenizer.encode_plus(utterance, return_tensors='pt', add_special_tokens=True, max_length = 512, truncation = True)\n",
    "outputs = model(**input_encoding)\n",
    "\n",
    "logits = outputs.logits\n",
    "idx = logits.argmax(-1).item()\n",
    "all_intents[idx]"
   ]
  },
  {
   "cell_type": "code",
   "execution_count": 4,
   "metadata": {},
   "outputs": [
    {
     "data": {
      "text/plain": [
       "'SuggestionsIntent'"
      ]
     },
     "execution_count": 4,
     "metadata": {},
     "output_type": "execute_result"
    }
   ],
   "source": [
    "utterance = \"Show me the suggestions\"\n",
    "\n",
    "input_encoding = tokenizer.encode_plus(utterance, return_tensors='pt', add_special_tokens=True, max_length = 512, truncation = True)\n",
    "outputs = model(**input_encoding)\n",
    "\n",
    "logits = outputs.logits\n",
    "idx = logits.argmax(-1).item()\n",
    "all_intents[idx]"
   ]
  },
  {
   "cell_type": "code",
   "execution_count": 5,
   "metadata": {},
   "outputs": [
    {
     "data": {
      "text/plain": [
       "'AMAZON.SelectIntent'"
      ]
     },
     "execution_count": 5,
     "metadata": {},
     "output_type": "execute_result"
    }
   ],
   "source": [
    "utterance = \"Show me the second recipe.\"\n",
    "\n",
    "input_encoding = tokenizer.encode_plus(utterance, return_tensors='pt', add_special_tokens=True, max_length = 512, truncation = True)\n",
    "outputs = model(**input_encoding)\n",
    "\n",
    "logits = outputs.logits\n",
    "idx = logits.argmax(-1).item()\n",
    "all_intents[idx]"
   ]
  },
  {
   "cell_type": "code",
   "execution_count": 6,
   "metadata": {},
   "outputs": [
    {
     "data": {
      "text/plain": [
       "'PreviousStepIntent'"
      ]
     },
     "execution_count": 6,
     "metadata": {},
     "output_type": "execute_result"
    }
   ],
   "source": [
    "utterance = \"Go back.\"\n",
    "\n",
    "input_encoding = tokenizer.encode_plus(utterance, return_tensors='pt', add_special_tokens=True, max_length = 512, truncation = True)\n",
    "outputs = model(**input_encoding)\n",
    "\n",
    "logits = outputs.logits\n",
    "idx = logits.argmax(-1).item()\n",
    "all_intents[idx]"
   ]
  },
  {
   "cell_type": "code",
   "execution_count": 7,
   "metadata": {},
   "outputs": [
    {
     "data": {
      "text/plain": [
       "'IngredientsConfirmationIntent'"
      ]
     },
     "execution_count": 7,
     "metadata": {},
     "output_type": "execute_result"
    }
   ],
   "source": [
    "utterance = \"What are the recipe ingredients?\"\n",
    "\n",
    "input_encoding = tokenizer.encode_plus(utterance, return_tensors='pt', add_special_tokens=True, max_length = 512, truncation = True)\n",
    "outputs = model(**input_encoding)\n",
    "\n",
    "logits = outputs.logits\n",
    "idx = logits.argmax(-1).item()\n",
    "all_intents[idx]"
   ]
  },
  {
   "cell_type": "code",
   "execution_count": 8,
   "metadata": {},
   "outputs": [
    {
     "data": {
      "text/plain": [
       "'StartStepsIntent'"
      ]
     },
     "execution_count": 8,
     "metadata": {},
     "output_type": "execute_result"
    }
   ],
   "source": [
    "utterance = \"This looks great. Let's start the recipe.\"\n",
    "\n",
    "input_encoding = tokenizer.encode_plus(utterance, return_tensors='pt', add_special_tokens=True, max_length = 512, truncation = True)\n",
    "outputs = model(**input_encoding)\n",
    "\n",
    "logits = outputs.logits\n",
    "idx = logits.argmax(-1).item()\n",
    "all_intents[idx]"
   ]
  },
  {
   "cell_type": "code",
   "execution_count": 9,
   "metadata": {},
   "outputs": [
    {
     "data": {
      "text/plain": [
       "'NextStepIntent'"
      ]
     },
     "execution_count": 9,
     "metadata": {},
     "output_type": "execute_result"
    }
   ],
   "source": [
    "utterance = \"Next step.\"\n",
    "\n",
    "input_encoding = tokenizer.encode_plus(utterance, return_tensors='pt', add_special_tokens=True, max_length = 512, truncation = True)\n",
    "outputs = model(**input_encoding)\n",
    "\n",
    "logits = outputs.logits\n",
    "idx = logits.argmax(-1).item()\n",
    "all_intents[idx]"
   ]
  },
  {
   "cell_type": "markdown",
   "metadata": {},
   "source": [
    "## Multimodal Conversations"
   ]
  },
  {
   "cell_type": "code",
   "execution_count": 12,
   "metadata": {},
   "outputs": [],
   "source": [
    "import json as json\n",
    "\n",
    "with open(\"recipes_data.json\", \"r\") as read_file:\n",
    "    data = json.load(read_file)\n",
    "\n",
    "imgA = data['0']['images'][0]['url']\n",
    "titleA = data['0']['displayName']\n",
    "propA = \"Serves \" + str(data['0']['servings'])\n"
   ]
  },
  {
   "cell_type": "code",
   "execution_count": 13,
   "metadata": {},
   "outputs": [],
   "source": [
    "from IPython.display import Video, Image, HTML, display\n",
    "\n",
    "def displayResults(titleA, imgA, propA, titleB, imgB, propB, titleC, imgC, propC):\n",
    "    display(HTML(f\"\"\"\n",
    "    <div class =\"row\" style=\"margin-left:100px\">\n",
    "       <div class=\"col-xs-6\">\n",
    "        <div class =\"images\" style=\"display:inline-block;\">\n",
    "            <img src=\"{imgA}\" class=\"img-responsive\" width=\"80px\">\n",
    "        </div>\n",
    "        <div class =\"images\" style=\"display:inline-block;\">\n",
    "                      {titleA} <br>\n",
    "                      {propA} <br>\n",
    "        </div>\n",
    "        <div class =\"images\" style=\"display:inline-block;\">\n",
    "            <img src=\"{imgB}\" class=\"img-responsive\" width=\"80\">\n",
    "        </div>\n",
    "        <div class =\"images\" style=\"display:inline-block;\">\n",
    "                      {titleB} <br>\n",
    "                      {propB} <br>\n",
    "        </div>\n",
    "        <div class =\"images\" style=\"display:inline-block;\">\n",
    "            <img src=\"{imgC}\" class=\"img-responsive\" width=\"80\">\n",
    "        </div>\n",
    "                      {titleC} <br>\n",
    "                      {propC} <br>\n",
    "        </div>\n",
    "       </div>\n",
    "    </div>\n",
    "    \"\"\"))\n",
    "\n",
    "def displayStep(text, img):\n",
    "    display(HTML(f\"\"\"\n",
    "    <div class =\"row\" style=\"margin-left:100px\">\n",
    "        <img src=\"{img}\" class=\"img-responsive\" width=\"80px\">\n",
    "        {text}<br>\n",
    "    </div>\n",
    "        \"\"\"))\n"
   ]
  },
  {
   "cell_type": "code",
   "execution_count": 14,
   "metadata": {},
   "outputs": [
    {
     "name": "stdout",
     "output_type": "stream",
     "text": [
      " BOT: Hello, I am a TaskBot and I can help you with cooking tasks. Which recipe would you like to do?\n",
      "\n"
     ]
    },
    {
     "name": "stdin",
     "output_type": "stream",
     "text": [
      "USER: cf\n"
     ]
    },
    {
     "name": "stdout",
     "output_type": "stream",
     "text": [
      "\n",
      " BOT: Great! These are the results I found:\n",
      "\n"
     ]
    },
    {
     "data": {
      "text/html": [
       "\n",
       "    <div class =\"row\" style=\"margin-left:100px\">\n",
       "       <div class=\"col-xs-6\">\n",
       "        <div class =\"images\" style=\"display:inline-block;\">\n",
       "            <img src=\"https://m.media-amazon.com/images/S/alexa-kitchen-msa-na-prod/recipes/thekitchn/016aa4923f044e1bad4cb2802f04133f7cf787b9bbf4fceb52438ecb70b28d89.jpg\" class=\"img-responsive\" width=\"80px\">\n",
       "        </div>\n",
       "        <div class =\"images\" style=\"display:inline-block;\">\n",
       "                      How To Make Chicken Parmesan <br>\n",
       "                      Serves 4 <br>\n",
       "        </div>\n",
       "        <div class =\"images\" style=\"display:inline-block;\">\n",
       "            <img src=\"https://m.media-amazon.com/images/S/alexa-kitchen-msa-na-prod/recipes/thekitchn/016aa4923f044e1bad4cb2802f04133f7cf787b9bbf4fceb52438ecb70b28d89.jpg\" class=\"img-responsive\" width=\"80\">\n",
       "        </div>\n",
       "        <div class =\"images\" style=\"display:inline-block;\">\n",
       "                      How To Make Chicken Parmesan <br>\n",
       "                      Serves 4 <br>\n",
       "        </div>\n",
       "        <div class =\"images\" style=\"display:inline-block;\">\n",
       "            <img src=\"https://m.media-amazon.com/images/S/alexa-kitchen-msa-na-prod/recipes/thekitchn/016aa4923f044e1bad4cb2802f04133f7cf787b9bbf4fceb52438ecb70b28d89.jpg\" class=\"img-responsive\" width=\"80\">\n",
       "        </div>\n",
       "                      How To Make Chicken Parmesan <br>\n",
       "                      Serves 4 <br>\n",
       "        </div>\n",
       "       </div>\n",
       "    </div>\n",
       "    "
      ],
      "text/plain": [
       "<IPython.core.display.HTML object>"
      ]
     },
     "metadata": {},
     "output_type": "display_data"
    },
    {
     "name": "stdout",
     "output_type": "stream",
     "text": [
      "      Which recipe would you like to do? Or, would you like to search for something different?\n",
      "\n"
     ]
    },
    {
     "name": "stdin",
     "output_type": "stream",
     "text": [
      "USER: gdfgd\n"
     ]
    },
    {
     "name": "stdout",
     "output_type": "stream",
     "text": [
      "\n",
      " BOT: That looks delicious! Let's start!\n",
      "\n"
     ]
    },
    {
     "data": {
      "text/html": [
       "\n",
       "    <div class =\"row\" style=\"margin-left:100px\">\n",
       "        <img src=\"https://m.media-amazon.com/images/S/alexa-kitchen-msa-na-prod/recipes/thekitchn/016aa4923f044e1bad4cb2802f04133f7cf787b9bbf4fceb52438ecb70b28d89.jpg\" class=\"img-responsive\" width=\"80px\">\n",
       "        Heat the oven and prepare for frying: Arrange a rack in the middle of the oven and heat to 375°F. Add enough oil to a wide, deep saucepan or pot so that it is 3/4-inch deep. If you have a deep-fry or candy thermometer, place it near the stove or attach it to the pan. Line a large platter with a few sheets of paper towels and set near the stove.<br>\n",
       "    </div>\n",
       "        "
      ],
      "text/plain": [
       "<IPython.core.display.HTML object>"
      ]
     },
     "metadata": {},
     "output_type": "display_data"
    },
    {
     "name": "stdout",
     "output_type": "stream",
     "text": [
      " BOT: Say next when you're done.\n",
      "\n"
     ]
    },
    {
     "name": "stdin",
     "output_type": "stream",
     "text": [
      "USER: trete\n"
     ]
    },
    {
     "name": "stdout",
     "output_type": "stream",
     "text": [
      "\n"
     ]
    },
    {
     "data": {
      "text/html": [
       "\n",
       "    <div class =\"row\" style=\"margin-left:100px\">\n",
       "        <img src=\"https://m.media-amazon.com/images/S/alexa-kitchen-msa-na-prod/recipes/thekitchn/016aa4923f044e1bad4cb2802f04133f7cf787b9bbf4fceb52438ecb70b28d89.jpg\" class=\"img-responsive\" width=\"80px\">\n",
       "        Set up a breading station: Line up 3 shallow bowls or 8-inch square rimmed dishes side by side. Place the flour, 1 teaspoon of the salt, and 1/2 teaspoon of the black pepper in the first dish and mix to combine. Place the eggs, water, and remaining 1 teaspoon of the salt to the second dish and beat lightly with a fork to combine. Pour the breadcrumbs into the third dish.<br>\n",
       "    </div>\n",
       "        "
      ],
      "text/plain": [
       "<IPython.core.display.HTML object>"
      ]
     },
     "metadata": {},
     "output_type": "display_data"
    },
    {
     "name": "stdout",
     "output_type": "stream",
     "text": [
      " BOT: Say next when you're done.\n",
      "\n"
     ]
    },
    {
     "name": "stdin",
     "output_type": "stream",
     "text": [
      "USER: gfd\n"
     ]
    }
   ],
   "source": [
    "# Turn 1\n",
    "print(\" BOT: Hello, I am a TaskBot and I can help you with cooking tasks. Which recipe would you like to do?\")\n",
    "print()\n",
    "val = input(\"USER:\")\n",
    "\n",
    "# Turn 2\n",
    "print()\n",
    "print(\" BOT: Great! These are the results I found:\")\n",
    "print()\n",
    "displayResults(titleA, imgA, propA, titleA, imgA, propA, titleA, imgA, propA)    \n",
    "print(\"      Which recipe would you like to do? Or, would you like to search for something different?\")\n",
    "print()\n",
    "val = input(\"USER:\")\n",
    "\n",
    "# Turn 3\n",
    "print()\n",
    "print(\" BOT: That looks delicious! Let's start!\")\n",
    "print()\n",
    "displayStep(data['0']['instructions'][0]['stepText'], imgA)    \n",
    "\n",
    "# Turn 4\n",
    "print(\" BOT: Say next when you're done.\")\n",
    "print()\n",
    "val = input(\"USER:\")\n",
    "print()\n",
    "displayStep(data['0']['instructions'][1]['stepText'], imgA)    \n",
    "\n",
    "# Turn 5\n",
    "print(\" BOT: Say next when you're done.\")\n",
    "print()\n",
    "val = input(\"USER:\")\n"
   ]
  },
  {
   "cell_type": "code",
   "execution_count": null,
   "metadata": {},
   "outputs": [],
   "source": []
  }
 ],
 "metadata": {
  "colab": {
   "collapsed_sections": [],
   "name": "model_view_bert_msmarco_aula.ipynb",
   "provenance": []
  },
  "kernelspec": {
   "display_name": "NLP & IR",
   "language": "python",
   "name": "nlp-ir"
  },
  "language_info": {
   "codemirror_mode": {
    "name": "ipython",
    "version": 3
   },
   "file_extension": ".py",
   "mimetype": "text/x-python",
   "name": "python",
   "nbconvert_exporter": "python",
   "pygments_lexer": "ipython3",
   "version": "3.8.12"
  }
 },
 "nbformat": 4,
 "nbformat_minor": 4
}
