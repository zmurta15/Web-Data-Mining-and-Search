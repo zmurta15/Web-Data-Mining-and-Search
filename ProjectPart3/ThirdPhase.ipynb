{
 "cells": [
  {
   "cell_type": "markdown",
   "id": "f21f32fd-114b-4617-afa6-febfd3e2a4b0",
   "metadata": {},
   "source": [
    "# Phase 3 - Conversational Task Agent"
   ]
  },
  {
   "cell_type": "markdown",
   "id": "b89c00c9-9695-472b-8c9a-7c68e6741783",
   "metadata": {},
   "source": [
    "## OpenSearch connection settings"
   ]
  },
  {
   "cell_type": "markdown",
   "id": "5e54bb11-42b6-4383-9d6a-5d0b7f6bf6f6",
   "metadata": {},
   "source": [
    "### Connection to Index"
   ]
  },
  {
   "cell_type": "code",
   "execution_count": 1,
   "id": "874ef443-7dbc-4f6b-8a90-02d99c9141fd",
   "metadata": {},
   "outputs": [
    {
     "name": "stdout",
     "output_type": "stream",
     "text": [
      "{'acknowledged': True, 'shards_acknowledged': True}\n",
      "\n",
      "----------------------------------------------------------------------------------- INDEX SETTINGS\n",
      "{'user213': {'settings': {'index': {'creation_date': '1654898808645',\n",
      "                                    'knn': 'true',\n",
      "                                    'number_of_replicas': '0',\n",
      "                                    'number_of_shards': '4',\n",
      "                                    'provided_name': 'user213',\n",
      "                                    'refresh_interval': '-1',\n",
      "                                    'uuid': 'bDuaRdMhTNa_b3vSuAfmXg',\n",
      "                                    'version': {'created': '135238227'}}}}}\n",
      "\n",
      "----------------------------------------------------------------------------------- INDEX MAPPINGS\n",
      "{'user213': {'mappings': {'dynamic': 'strict',\n",
      "                          'properties': {'description': {'analyzer': 'standard',\n",
      "                                                         'similarity': 'BM25',\n",
      "                                                         'type': 'text'},\n",
      "                                         'description_embedding': {'dimension': 768,\n",
      "                                                                   'method': {'engine': 'faiss',\n",
      "                                                                              'name': 'hnsw',\n",
      "                                                                              'parameters': {'ef_construction': 256,\n",
      "                                                                                             'm': 48},\n",
      "                                                                              'space_type': 'innerproduct'},\n",
      "                                                                   'type': 'knn_vector'},\n",
      "                                         'ingredients': {'type': 'keyword'},\n",
      "                                         'recipe_id': {'type': 'keyword'},\n",
      "                                         'servings': {'type': 'integer'},\n",
      "                                         'title': {'analyzer': 'standard',\n",
      "                                                   'similarity': 'BM25',\n",
      "                                                   'type': 'text'},\n",
      "                                         'title_embedding': {'dimension': 768,\n",
      "                                                             'method': {'engine': 'faiss',\n",
      "                                                                        'name': 'hnsw',\n",
      "                                                                        'parameters': {'ef_construction': 256,\n",
      "                                                                                       'm': 48},\n",
      "                                                                        'space_type': 'innerproduct'},\n",
      "                                                             'type': 'knn_vector'}}}}}\n",
      "\n",
      "----------------------------------------------------------------------------------- INDEX #DOCs\n",
      "{'count': 994, '_shards': {'total': 4, 'successful': 4, 'skipped': 0, 'failed': 0}}\n"
     ]
    }
   ],
   "source": [
    "import pprint as pp\n",
    "import requests\n",
    "from opensearchpy import OpenSearch\n",
    "from opensearchpy import helpers\n",
    "from searchQueries import *\n",
    "\n",
    "host = '10.10.255.202'\n",
    "port = 8200\n",
    "user = 'user213' # group username\n",
    "password = '1Fz{K6})[w>C8T*yBhbeTr' # Add your user password here. For testing only. Don't store credentials in code. \n",
    "index_name = user\n",
    "\n",
    "# Create the client with SSL/TLS enabled, but hostname verification disabled.\n",
    "client = OpenSearch(\n",
    "    hosts = [{'host': host, 'port': port}],\n",
    "    http_compress = True, # enables gzip compression for request bodies\n",
    "    http_auth = (user, password),\n",
    "    # client_cert = client_cert_path,\n",
    "    # client_key = client_key_path,\n",
    "    use_ssl = True,\n",
    "    verify_certs = False,\n",
    "    ssl_assert_hostname = False,\n",
    "    ssl_show_warn = False\n",
    "    #, ca_certs = ca_certs_path\n",
    ")\n",
    "\n",
    "if client.indices.exists(index_name):\n",
    "\n",
    "    resp = client.indices.open(index = index_name)\n",
    "    print(resp)\n",
    "\n",
    "    print('\\n----------------------------------------------------------------------------------- INDEX SETTINGS')\n",
    "    settings = client.indices.get_settings(index = index_name)\n",
    "    pp.pprint(settings)\n",
    "\n",
    "    print('\\n----------------------------------------------------------------------------------- INDEX MAPPINGS')\n",
    "    mappings = client.indices.get_mapping(index = index_name)\n",
    "    pp.pprint(mappings)\n",
    "\n",
    "    print('\\n----------------------------------------------------------------------------------- INDEX #DOCs')\n",
    "    print(client.count(index = index_name))"
   ]
  },
  {
   "cell_type": "markdown",
   "id": "eecf9f90-eb17-40be-8482-7167bc3e8aa8",
   "metadata": {},
   "source": [
    "### Close Index"
   ]
  },
  {
   "cell_type": "code",
   "execution_count": 15,
   "id": "2e6cf44d-6804-4dc6-9188-553f8f992b5b",
   "metadata": {},
   "outputs": [
    {
     "name": "stdout",
     "output_type": "stream",
     "text": [
      "{'acknowledged': True, 'shards_acknowledged': True, 'indices': {'user213': {'closed': True}}}\n"
     ]
    }
   ],
   "source": [
    "resp = client.indices.close(index = index_name, timeout=\"600s\")\n",
    "print(resp)"
   ]
  },
  {
   "cell_type": "markdown",
   "id": "fe0c2f00-c207-42a7-bde3-07bd61031a94",
   "metadata": {},
   "source": [
    "### Function Defines and load Index Model"
   ]
  },
  {
   "cell_type": "code",
   "execution_count": 2,
   "id": "e0626d13-d55d-48c6-ae06-096ac39dddae",
   "metadata": {
    "tags": []
   },
   "outputs": [],
   "source": [
    "from transformers import AutoTokenizer, AutoModel\n",
    "import torch\n",
    "import torch.nn.functional as F\n",
    "\n",
    "#Mean Pooling - Take average of all tokens\n",
    "def mean_pooling(model_output, attention_mask):\n",
    "    token_embeddings = model_output.last_hidden_state\n",
    "    input_mask_expanded = attention_mask.unsqueeze(-1).expand(token_embeddings.size()).float()\n",
    "    return torch.sum(token_embeddings * input_mask_expanded, 1) / torch.clamp(input_mask_expanded.sum(1), min=1e-9)\n",
    "\n",
    "\n",
    "#Encode text\n",
    "def encode(texts):\n",
    "    # Tokenize sentences\n",
    "    encoded_input = tokenizerIndex(texts, padding=True, truncation=True, return_tensors='pt')\n",
    "\n",
    "    # Compute token embeddings\n",
    "    with torch.no_grad():\n",
    "        model_output = modelIndex(**encoded_input, return_dict=True)\n",
    "\n",
    "    # Perform pooling\n",
    "    embeddings = mean_pooling(model_output, encoded_input['attention_mask'])\n",
    "\n",
    "    # Normalize embeddings\n",
    "    embeddings = F.normalize(embeddings, p=2, dim=1)\n",
    "    \n",
    "    return embeddings\n",
    "\n",
    "# Load model from HuggingFace Hub\n",
    "tokenizerIndex = AutoTokenizer.from_pretrained(\"sentence-transformers/msmarco-distilbert-base-v2\")\n",
    "modelIndex = AutoModel.from_pretrained(\"sentence-transformers/msmarco-distilbert-base-v2\")"
   ]
  },
  {
   "cell_type": "markdown",
   "id": "d795ff13-43fc-4610-9bef-ca1de5524bf0",
   "metadata": {},
   "source": [
    "### Adding docs to the index was made on the first phase of this project"
   ]
  },
  {
   "cell_type": "markdown",
   "id": "13f33d65-0721-4633-946f-47a23841d336",
   "metadata": {},
   "source": [
    "## Dialog Manager"
   ]
  },
  {
   "cell_type": "markdown",
   "id": "d57f7ca3-3c5d-4b1f-a78e-e935e87b0011",
   "metadata": {},
   "source": [
    "### User Intent detection and load Intent Model"
   ]
  },
  {
   "cell_type": "code",
   "execution_count": 3,
   "id": "f7f3566a-4b46-4911-b9b9-e6fd4eff5a5a",
   "metadata": {},
   "outputs": [],
   "source": [
    "import os\n",
    "import numpy as np\n",
    "import transformers\n",
    "import json\n",
    "\n",
    "from transformers import (\n",
    "    AutoModelForSequenceClassification,\n",
    "    AutoTokenizer,\n",
    "    Trainer,\n",
    "    TrainingArguments,\n",
    "    DataCollatorWithPadding\n",
    ")\n",
    "\n",
    "model_finetuned = '/user/data/public/twiz-intent-model'\n",
    "with open(os.path.join(model_finetuned + '/all_intents.json'), 'r') as all_intents_json:\n",
    "    all_intents = json.load(all_intents_json) # contains the written out names of intents. also implicitly\n",
    "\n",
    "tokenizer_name = 'roberta-base'\n",
    "tokenizerIntent = AutoTokenizer.from_pretrained(tokenizer_name) # loads a tokenizer\n",
    "\n",
    "modelIntent = AutoModelForSequenceClassification.from_pretrained(model_finetuned, \n",
    "                                                           num_labels=len(all_intents)) # Loads the BERT model weights\n"
   ]
  },
  {
   "cell_type": "markdown",
   "id": "ce2d3ddd-80dd-4d19-bd30-c83959314bfb",
   "metadata": {},
   "source": [
    "### Function Defines to calculate each phrase intent and embeddings of user response"
   ]
  },
  {
   "cell_type": "code",
   "execution_count": 4,
   "id": "203687ec-bcb4-47a5-b925-2afc7c5660d6",
   "metadata": {},
   "outputs": [],
   "source": [
    "def computeIntent(phrase):\n",
    "    input_encoding = tokenizerIntent.encode_plus(phrase, return_tensors='pt', add_special_tokens=True, max_length = 512, truncation = True)\n",
    "    outputs = modelIntent(**input_encoding)\n",
    "    logits = outputs.logits\n",
    "    idx = logits.argmax(-1).item()\n",
    "    return all_intents[idx]\n",
    "\n",
    "def identifyProcessResponse(phrase, numRecipe):\n",
    "    sourceEmb = ['title']\n",
    "    embedding = \"title_embedding\"\n",
    "    query_emb = encode(phrase)\n",
    "    responseEmb = embeddingsSearch(sourceEmb, embedding, query_emb, client, index_name)\n",
    "    return responseEmb[\"hits\"][\"hits\"][numRecipe][\"_id\"]"
   ]
  },
  {
   "cell_type": "markdown",
   "id": "5bc2ad62-159e-4f7f-95d6-acb0775e4c5c",
   "metadata": {},
   "source": [
    "## Image Extraction from JSON"
   ]
  },
  {
   "cell_type": "code",
   "execution_count": 5,
   "id": "40e1fd04-c497-4325-99a0-4ee624ccb8d6",
   "metadata": {},
   "outputs": [],
   "source": [
    "from IPython.display import Image, HTML, display\n",
    "\n",
    "with open(\"recipes_data.json\", \"r\") as read_file:\n",
    "    data = json.load(read_file)\n",
    "\n",
    "images = []\n",
    "\n",
    "for x in data:\n",
    "    recipe_id = x\n",
    "    principal_images = data[str(x)]['images']\n",
    "    for z in range (len(principal_images)):\n",
    "        images.append(principal_images [z]['url'])\n",
    "    instructions = data[str(x)] ['instructions']\n",
    "    for u in range (len(instructions)):\n",
    "        stepImages = instructions [u] ['stepImages']\n",
    "        for a in range (len(stepImages)):\n",
    "            images.append(stepImages[a]['url'])"
   ]
  },
  {
   "cell_type": "markdown",
   "id": "966ff339-4395-4320-a645-5ad4e53dc941",
   "metadata": {},
   "source": [
    "### Open all the images - Run only when necessary"
   ]
  },
  {
   "cell_type": "code",
   "execution_count": 6,
   "id": "dfba2e23-3c68-4d50-a66c-4b98668e0859",
   "metadata": {},
   "outputs": [],
   "source": [
    "from PIL import Image\n",
    "import requests\n",
    "\n",
    "import clip\n",
    "\n",
    "model, preprocess = clip.load(\"ViT-B/32\")\n",
    "\n",
    "#This code takes about 10 minutes to run\n",
    "images_open = []\n",
    "for x in range(len(images)):\n",
    "    img_open = Image.open(requests.get(images[x], stream=True).raw)\n",
    "    images_open.append(preprocess(img_open))"
   ]
  },
  {
   "cell_type": "markdown",
   "id": "ee12304d-83ce-44e4-8a27-fad26dfdbc51",
   "metadata": {},
   "source": [
    "### Calculate image_features - Run only when necessary"
   ]
  },
  {
   "cell_type": "code",
   "execution_count": 7,
   "id": "b56b6c3d-6adc-4d4e-a30a-78e77cf0b778",
   "metadata": {},
   "outputs": [],
   "source": [
    "import torch\n",
    "from transformers import CLIPProcessor, CLIPModel, CLIPTokenizer\n",
    "import numpy as np\n",
    "\n",
    "#This code takes about 4 minutes to run\n",
    "image_input = torch.tensor(np.stack(images_open))\n",
    "with torch.no_grad():\n",
    "    image_features = model.encode_image(image_input).float()\n",
    "image_features /= image_features.norm(dim=-1, keepdim=True)\n",
    "\n"
   ]
  },
  {
   "cell_type": "markdown",
   "id": "5ae091c8-7b74-4f2c-bb70-e7f6016483f5",
   "metadata": {},
   "source": [
    "### Choose best image"
   ]
  },
  {
   "cell_type": "code",
   "execution_count": 8,
   "id": "fa975d7c-e5f7-48a6-8977-d92f657b432b",
   "metadata": {},
   "outputs": [],
   "source": [
    "device = \"cuda\" if torch.cuda.is_available() else \"cpu\"\n",
    "\n",
    "model = CLIPModel.from_pretrained(\"openai/clip-vit-base-patch32\").to(device)\n",
    "processor = CLIPProcessor.from_pretrained(\"openai/clip-vit-base-patch32\")\n",
    "tokenizer = CLIPTokenizer.from_pretrained(\"openai/clip-vit-base-patch32\")"
   ]
  },
  {
   "cell_type": "code",
   "execution_count": 9,
   "id": "1819a767-6105-4ba8-a9b9-f9ca9e12a137",
   "metadata": {},
   "outputs": [],
   "source": [
    "from IPython.display import Image as im2\n",
    "\n",
    "def similarity(feature, photo_features):\n",
    "    similarities = list((feature @ photo_features.T).squeeze(0))\n",
    "    return similarities\n",
    "\n",
    "def bestImage (text):\n",
    "    with torch.no_grad():\n",
    "        inputs = tokenizer([text[0:76]],  padding=True, return_tensors=\"pt\")\n",
    "        inputs = processor(text=[text[0:76]], images=None, return_tensors=\"pt\", padding=True)\n",
    "    text_encoded =  model.get_text_features(**inputs).detach().numpy()\n",
    "\n",
    "    similarities = similarity(text_encoded, image_features.cpu().numpy())\n",
    "\n",
    "    bestphoto_idx = sorted(zip(similarities, range(image_features.shape[0])), key=lambda x: x[0], reverse=True) [0] [1]\n",
    "    return images[bestphoto_idx]"
   ]
  },
  {
   "cell_type": "markdown",
   "id": "9060fa4b-d459-443d-83f4-eb65fb01c94c",
   "metadata": {},
   "source": [
    "### Auxiliar methods for image printing"
   ]
  },
  {
   "cell_type": "code",
   "execution_count": 10,
   "id": "e05b8e41-f1de-46b7-b985-eed3b55ca907",
   "metadata": {},
   "outputs": [],
   "source": [
    "def showRecipeImage(id, recipeText):\n",
    "    recipe = data[str(id)]\n",
    "    if(len(recipe['images']) == 0):\n",
    "        url = bestImage(recipeText)\n",
    "    else:\n",
    "        url = recipe['images'][0]['url']\n",
    "    display(HTML(f\"\"\"\n",
    "      <div class = \"stepImage\">\n",
    "       <img src=\"{url}\" class=\"img-responsive\" width=\"300\" heigth =\"400\">\n",
    "       <br><br>\n",
    "    \"\"\"))\n",
    "\n",
    "def showStepsImage (id, stepNumber, stepText):\n",
    "    steps = recipe['instructions']\n",
    "    if(len(steps[stepNumber]['stepImages']) == 0):\n",
    "        url = bestImage(stepText)\n",
    "    else:\n",
    "        url = steps[stepNumber]['stepImages'][0]['url']\n",
    "    display(HTML(f\"\"\"\n",
    "      <div class = \"stepImage\">\n",
    "       <img src=\"{url}\" class=\"img-responsive\" width=\"300\" heigth =\"400\">\n",
    "       <br><br>\n",
    "    \"\"\"))\n"
   ]
  },
  {
   "cell_type": "markdown",
   "id": "ac527f72-2939-4272-b1e0-dde148961ee4",
   "metadata": {},
   "source": [
    "## Game Part: Guess the recipe title"
   ]
  },
  {
   "cell_type": "markdown",
   "id": "a2a30527-24d4-4ff8-b0b1-d44fb7e40bdb",
   "metadata": {},
   "source": [
    "### Function defines to calculate text similarity and remove stop words"
   ]
  },
  {
   "cell_type": "code",
   "execution_count": 11,
   "id": "000de3cf-ad71-49a7-b594-fd47cced9eb8",
   "metadata": {},
   "outputs": [],
   "source": [
    "from torch import Tensor\n",
    "import spacy\n",
    "from spacy import displacy\n",
    "from pathlib import Path\n",
    "\n",
    "#Calculate similarity\n",
    "def cos_sim(a: Tensor, b: Tensor):\n",
    "    a_norm = torch.nn.functional.normalize(a, p=2, dim=1)\n",
    "    b_norm = torch.nn.functional.normalize(b, p=2, dim=1)\n",
    "    return torch.mm(a_norm, b_norm.transpose(0, 1))\n",
    "\n",
    "def removeStopWords(phrase):\n",
    "    nlp = spacy.load(\"en_core_web_sm\")\n",
    "    doc = nlp(phrase)\n",
    "    newPhrase = ''\n",
    "    for token in doc:\n",
    "        if(not token.is_stop and not token.text == 'recipe'):\n",
    "            newPhrase +=token.text + \" \"\n",
    "    return newPhrase\n"
   ]
  },
  {
   "cell_type": "markdown",
   "id": "22abc696-418b-4f76-aae0-6c5e9f42753e",
   "metadata": {},
   "source": [
    "### Function to calculate similarity between a user's sentence and recipe's title"
   ]
  },
  {
   "cell_type": "code",
   "execution_count": 12,
   "id": "678007c3-f6ba-4b78-b42b-99e05f5f1311",
   "metadata": {},
   "outputs": [],
   "source": [
    "def guessSimilarity(recipeName, phrase):\n",
    "    recipeName = removeStopWords(recipeName)\n",
    "    firstSentence = encode(recipeName)\n",
    "    phrase = removeStopWords(phrase)\n",
    "    secondSentence = encode(phrase)\n",
    "    return cos_sim(firstSentence, secondSentence)\n"
   ]
  },
  {
   "cell_type": "markdown",
   "id": "10aa7dee-bc24-4109-bf80-4c626a5671be",
   "metadata": {},
   "source": [
    "### Auxiliar function to print recipe's steps"
   ]
  },
  {
   "cell_type": "code",
   "execution_count": 13,
   "id": "984b932b-1108-4925-9a24-1548b9d6a9ff",
   "metadata": {},
   "outputs": [],
   "source": [
    "def showSteps (stepNumber, stepText):\n",
    "    display(HTML(f\"\"\"\n",
    "    <div class =  \"steps\">\n",
    "       <b>Step Number: </b> {stepNumber}\n",
    "       <br>\n",
    "       <b>Step Text:</b> {stepText}\n",
    "       <br>\n",
    "    \"\"\"))"
   ]
  },
  {
   "cell_type": "markdown",
   "id": "ed5a0b96-111e-4ab0-b63f-aed055784d9b",
   "metadata": {},
   "source": [
    "## TaskBot "
   ]
  },
  {
   "cell_type": "code",
   "execution_count": 14,
   "id": "d369467e-e965-425a-8b2d-cfb0bc185347",
   "metadata": {
    "tags": []
   },
   "outputs": [
    {
     "name": "stdout",
     "output_type": "stream",
     "text": [
      "Hello, I am a TaskBot and I can help you with cooking tasks. Can I help you? If you do not know what to eat and want to play a game to challenge you apetite respond \u001b[1mPlay game\u001b[0m!\n",
      "Respond \u001b[1mHelp\u001b[0m for more information.\n"
     ]
    },
    {
     "name": "stdin",
     "output_type": "stream",
     "text": [
      "USER: help\n"
     ]
    },
    {
     "name": "stdout",
     "output_type": "stream",
     "text": [
      "Here is some suggestions that you can ask me:\n",
      " \u001b[1m- I want a chicken recipe\u001b[0m and I will describe all the details of the desired recipe.\n",
      " \u001b[1m- Play Game\u001b[0m so we can play a fun game!\n"
     ]
    },
    {
     "name": "stdin",
     "output_type": "stream",
     "text": [
      "USER: I want some chicken\n"
     ]
    },
    {
     "name": "stdout",
     "output_type": "stream",
     "text": [
      "I know lots of recipes. Here is a tasteful one. Do you want this one?\n",
      "\u001b[1mMy Favorite Chicken Salad\u001b[0m\n"
     ]
    },
    {
     "data": {
      "text/html": [
       "\n",
       "      <div class = \"stepImage\">\n",
       "       <img src=\"https://m.media-amazon.com/images/S/alexa-kitchen-msa-na-prod/recipes/epicurious/950523eeb67825c25e13b6586ae155f3218001a8ac652b834dc6b4eda470466c.jpg\" class=\"img-responsive\" width=\"300\" heigth =\"400\">\n",
       "       <br><br>\n",
       "    "
      ],
      "text/plain": [
       "<IPython.core.display.HTML object>"
      ]
     },
     "metadata": {},
     "output_type": "display_data"
    },
    {
     "name": "stdin",
     "output_type": "stream",
     "text": [
      "USER: no\n"
     ]
    },
    {
     "name": "stdout",
     "output_type": "stream",
     "text": [
      "Here is another tasteful one. Do you want this one?\n",
      "\u001b[1mChicken Lady Chicken From 'My Paris Kitchen'\u001b[0m\n"
     ]
    },
    {
     "data": {
      "text/html": [
       "\n",
       "      <div class = \"stepImage\">\n",
       "       <img src=\"https://m.media-amazon.com/images/S/alexa-kitchen-msa-na-prod/recipes/seriouseats/021fbb66717233854f21848b3f46edba2e846886ce2953e04aec78e97c8d9497.jpg\" class=\"img-responsive\" width=\"300\" heigth =\"400\">\n",
       "       <br><br>\n",
       "    "
      ],
      "text/plain": [
       "<IPython.core.display.HTML object>"
      ]
     },
     "metadata": {},
     "output_type": "display_data"
    },
    {
     "name": "stdin",
     "output_type": "stream",
     "text": [
      "USER: it looks good\n"
     ]
    },
    {
     "name": "stdout",
     "output_type": "stream",
     "text": [
      "Do you want to check first the ingredients of Chicken Lady Chicken From 'My Paris Kitchen'?\n"
     ]
    },
    {
     "name": "stdin",
     "output_type": "stream",
     "text": [
      "USER: yes please\n"
     ]
    },
    {
     "name": "stdout",
     "output_type": "stream",
     "text": [
      "These are the ingredients you need:\n",
      " -3 cloves garlic, peeled and minced\n",
      " -1½ teaspoons sea salt or kosher salt\n",
      " -2 tablespoons olive oil\n",
      " -2 tablespoons freshly squeezed lemon juice\n",
      " -2 tablespoons white wine\n",
      " -1 tablespoon soy sauce\n",
      " -2½ teaspoons harissa, Sriracha, or Asian chile paste\n",
      " -2 teaspoons Dijon or yellow mustard\n",
      " -2 teaspoons honey\n",
      " -1 (3-pound/1.5kg) chicken\n",
      "Are you ready to start?\n"
     ]
    },
    {
     "name": "stdin",
     "output_type": "stream",
     "text": [
      "USER: sure\n"
     ]
    },
    {
     "name": "stdout",
     "output_type": "stream",
     "text": [
      "Okay let's get started! Here is the first step, if you want to continue just say next or another similar thing back to go to the previous step or you can stop at any moment because you are a really bad cooker\n"
     ]
    },
    {
     "data": {
      "text/html": [
       "\n",
       "    <div class =  \"steps\">\n",
       "       <b>Step Number: </b> 1\n",
       "       <br>\n",
       "       <b>Step Text:</b> Put the minced garlic and salt in a resealable plastic bag and crush it with the heel of your hand until it’s a paste. Add the olive oil, lemon juice, white wine, soy sauce, harissa, mustard, and honey to the bag, combining the ingredients well.\n",
       "       <br>\n",
       "    "
      ],
      "text/plain": [
       "<IPython.core.display.HTML object>"
      ]
     },
     "metadata": {},
     "output_type": "display_data"
    },
    {
     "data": {
      "text/html": [
       "\n",
       "      <div class = \"stepImage\">\n",
       "       <img src=\"https://m.media-amazon.com/images/S/alexa-kitchen-msa-na-prod/recipes/sidechef/5420e9416416f8661069e61cd04b0405a1bee065acdd2a8ceb9ef5f955a713fc.png\" class=\"img-responsive\" width=\"300\" heigth =\"400\">\n",
       "       <br><br>\n",
       "    "
      ],
      "text/plain": [
       "<IPython.core.display.HTML object>"
      ]
     },
     "metadata": {},
     "output_type": "display_data"
    },
    {
     "name": "stdin",
     "output_type": "stream",
     "text": [
      "USER: back\n"
     ]
    },
    {
     "name": "stdout",
     "output_type": "stream",
     "text": [
      "Easyyyyyyyyy, there is nothing do before this, you are still in the first step.\n"
     ]
    },
    {
     "name": "stdin",
     "output_type": "stream",
     "text": [
      "USER: next\n"
     ]
    },
    {
     "data": {
      "text/html": [
       "\n",
       "    <div class =  \"steps\">\n",
       "       <b>Step Number: </b> 2\n",
       "       <br>\n",
       "       <b>Step Text:</b> Remove the backbone of the chicken by snipping down both sides of the spine with poultry shears, or taking a chef’s knife and cutting along both sides of it, and pulling it off. With the breast side down on the cutting board, take a knife and crack the bone between the breasts, then push the chicken down with your hands so it spreads out and lies flat. Flip the chicken over so it’s skin side up and press down with the heels of your hands on the chicken very firmly—like you’re giving it a shiatsu massage—to flatten it as much as you possibly can. Don’t go easy on it.\n",
       "       <br>\n",
       "    "
      ],
      "text/plain": [
       "<IPython.core.display.HTML object>"
      ]
     },
     "metadata": {},
     "output_type": "display_data"
    },
    {
     "data": {
      "text/html": [
       "\n",
       "      <div class = \"stepImage\">\n",
       "       <img src=\"https://m.media-amazon.com/images/S/alexa-kitchen-msa-na-prod/recipes/sidechef/848beb6a343247211925b59d49abaa26da89205ffb96cba7474cabe88a58b00a.jpg\" class=\"img-responsive\" width=\"300\" heigth =\"400\">\n",
       "       <br><br>\n",
       "    "
      ],
      "text/plain": [
       "<IPython.core.display.HTML object>"
      ]
     },
     "metadata": {},
     "output_type": "display_data"
    },
    {
     "name": "stdin",
     "output_type": "stream",
     "text": [
      "USER: next\n"
     ]
    },
    {
     "data": {
      "text/html": [
       "\n",
       "    <div class =  \"steps\">\n",
       "       <b>Step Number: </b> 3\n",
       "       <br>\n",
       "       <b>Step Text:</b> Loosen the skin from the breast and thigh meat and spoon some of the marinade under the skin. Put the chicken in the bag, close it securely, and use your hands to rub the ingredients into the chicken. Refrigerate it for 1 to 2 days, flipping the bag over a few times as it marinates.\n",
       "       <br>\n",
       "    "
      ],
      "text/plain": [
       "<IPython.core.display.HTML object>"
      ]
     },
     "metadata": {},
     "output_type": "display_data"
    },
    {
     "data": {
      "text/html": [
       "\n",
       "      <div class = \"stepImage\">\n",
       "       <img src=\"https://m.media-amazon.com/images/S/alexa-kitchen-msa-na-prod/recipes/sidechef/08c1210a9d8c94b9c0b14957f05efc98da3e492779d7ee4b5f792212a60b4944.jpg\" class=\"img-responsive\" width=\"300\" heigth =\"400\">\n",
       "       <br><br>\n",
       "    "
      ],
      "text/plain": [
       "<IPython.core.display.HTML object>"
      ]
     },
     "metadata": {},
     "output_type": "display_data"
    },
    {
     "name": "stdin",
     "output_type": "stream",
     "text": [
      "USER: next\n"
     ]
    },
    {
     "data": {
      "text/html": [
       "\n",
       "    <div class =  \"steps\">\n",
       "       <b>Step Number: </b> 4\n",
       "       <br>\n",
       "       <b>Step Text:</b> To cook the chicken, preheat the oven to 400ºF (200ºC). Heat a cast-iron skillet or grill pan over medium-high heat on the stovetop and place the chicken in it, breast side down. Drape a sheet of heavy-duty aluminum foil over the top and set a heavy weight on top of it. A good option is a brick or a large saucepan filled with water.\n",
       "       <br>\n",
       "    "
      ],
      "text/plain": [
       "<IPython.core.display.HTML object>"
      ]
     },
     "metadata": {},
     "output_type": "display_data"
    },
    {
     "data": {
      "text/html": [
       "\n",
       "      <div class = \"stepImage\">\n",
       "       <img src=\"https://m.media-amazon.com/images/S/alexa-kitchen-msa-na-prod/recipes/sidechef/6a31c46981dc3f41f202e5e860337759895648f1c3b9a01408858ef358466531.jpg\" class=\"img-responsive\" width=\"300\" heigth =\"400\">\n",
       "       <br><br>\n",
       "    "
      ],
      "text/plain": [
       "<IPython.core.display.HTML object>"
      ]
     },
     "metadata": {},
     "output_type": "display_data"
    },
    {
     "name": "stdin",
     "output_type": "stream",
     "text": [
      "USER: next\n"
     ]
    },
    {
     "data": {
      "text/html": [
       "\n",
       "    <div class =  \"steps\">\n",
       "       <b>Step Number: </b> 5\n",
       "       <br>\n",
       "       <b>Step Text:</b> Cook the chicken until the skin is a deep golden brown, which usually takes about 10 minutes or so—check it often. Once it’s browned, flip the chicken over, replace the weight, and let it cook for about 5 more minutes.\n",
       "       <br>\n",
       "    "
      ],
      "text/plain": [
       "<IPython.core.display.HTML object>"
      ]
     },
     "metadata": {},
     "output_type": "display_data"
    },
    {
     "data": {
      "text/html": [
       "\n",
       "      <div class = \"stepImage\">\n",
       "       <img src=\"https://m.media-amazon.com/images/S/alexa-kitchen-msa-na-prod/recipes/foodnetwork/649c0783618c448c27b0404fe01738e19efd65206dc5fa24df59157f6567d248.jpg\" class=\"img-responsive\" width=\"300\" heigth =\"400\">\n",
       "       <br><br>\n",
       "    "
      ],
      "text/plain": [
       "<IPython.core.display.HTML object>"
      ]
     },
     "metadata": {},
     "output_type": "display_data"
    },
    {
     "name": "stdin",
     "output_type": "stream",
     "text": [
      "USER: next\n"
     ]
    },
    {
     "data": {
      "text/html": [
       "\n",
       "    <div class =  \"steps\">\n",
       "       <b>Step Number: </b> 6\n",
       "       <br>\n",
       "       <b>Step Text:</b> Remove the weight and the foil and place the chicken in the oven for 25 minutes, until it’s cooked through. To serve it French-style, cut the chicken into eight pieces: two legs, two thighs, and cut each breast in half crosswise, leaving the wings attached.\n",
       "       <br>\n",
       "    "
      ],
      "text/plain": [
       "<IPython.core.display.HTML object>"
      ]
     },
     "metadata": {},
     "output_type": "display_data"
    },
    {
     "data": {
      "text/html": [
       "\n",
       "      <div class = \"stepImage\">\n",
       "       <img src=\"https://m.media-amazon.com/images/S/alexa-kitchen-msa-na-prod/recipes/sidechef/19e76ec37d904e70f815e4e579100be7bd35941519b44fecfabc5cc0e2369a55.jpg\" class=\"img-responsive\" width=\"300\" heigth =\"400\">\n",
       "       <br><br>\n",
       "    "
      ],
      "text/plain": [
       "<IPython.core.display.HTML object>"
      ]
     },
     "metadata": {},
     "output_type": "display_data"
    },
    {
     "name": "stdin",
     "output_type": "stream",
     "text": [
      "USER: next\n"
     ]
    },
    {
     "name": "stdout",
     "output_type": "stream",
     "text": [
      "You just finished, I hope it tastes good. Is there anything more I can help with?\n"
     ]
    },
    {
     "name": "stdin",
     "output_type": "stream",
     "text": [
      "USER: Play game\n"
     ]
    },
    {
     "name": "stdout",
     "output_type": "stream",
     "text": [
      "Welcome to the recipe game, where I show you an image of a recipe and you have to guess what it is! Are you ready to start?\n"
     ]
    },
    {
     "name": "stdin",
     "output_type": "stream",
     "text": [
      "USER: yes\n"
     ]
    },
    {
     "name": "stdout",
     "output_type": "stream",
     "text": [
      "Very well, I will then explain how the game works. I will show you a image of a recipe and you can try to guess what recipe it is.\n",
      "The first time you fail, it will be shown the ingredients. If you fail the second time, It will be shown each step until you guess it right!\n",
      "You lose the game if at the end of the steps, you did not got a close answer\n"
     ]
    },
    {
     "data": {
      "text/html": [
       "\n",
       "      <div class = \"stepImage\">\n",
       "       <img src=\"https://m.media-amazon.com/images/S/alexa-kitchen-msa-na-prod/recipes/foodnetwork/d83556d20614bdc8e054c811d74c6163f1c6ea073a11eb86f29bd6fd0f0da346.jpg\" class=\"img-responsive\" width=\"300\" heigth =\"400\">\n",
       "       <br><br>\n",
       "    "
      ],
      "text/plain": [
       "<IPython.core.display.HTML object>"
      ]
     },
     "metadata": {},
     "output_type": "display_data"
    },
    {
     "name": "stdin",
     "output_type": "stream",
     "text": [
      "USER: chocolate house cake\n"
     ]
    },
    {
     "name": "stdout",
     "output_type": "stream",
     "text": [
      "Try again!\n",
      "You are getting closer!\n",
      "Your score is 40.0%\n",
      "These are the ingredients of the recipe:\n",
      " -½ cup (1 stick) butter, at room temperature\n",
      " -½ cup dark brown sugar\n",
      " -¼ cup light molasses or dark corn syrup\n",
      " -1 tablespoon cinnamon\n",
      " -1 tablespoon ground ginger\n",
      " -1 ½ teaspoons ground cloves\n",
      " -1 teaspoon baking soda\n",
      " -2 cups all-purpose flour\n",
      " -2 tablespoons water\n",
      " -Melted white chocolate or Royal Icing, recipe follows\n",
      " -Gumdrops, licorice and peppermint, as desired\n",
      " -1 pound (3-¾ cups) powdered sugar, sifted if lumpy\n",
      " -1 to 2 large egg whites, or substitute 4 teaspoons packaged egg whites and ¼ cup water\n",
      " -1 teaspoon almond extract, vanilla or lemon juice\n"
     ]
    },
    {
     "name": "stdin",
     "output_type": "stream",
     "text": [
      "USER: gingerbread house\n"
     ]
    },
    {
     "name": "stdout",
     "output_type": "stream",
     "text": [
      "Congratsssssss, you won. You have now 1 wins and 0 losses. What else can I do for you? \n"
     ]
    },
    {
     "name": "stdin",
     "output_type": "stream",
     "text": [
      "USER: play game\n"
     ]
    },
    {
     "name": "stdout",
     "output_type": "stream",
     "text": [
      "Welcome to the recipe game, where I show you an image of a recipe and you have to guess what it is! Are you ready to start?\n"
     ]
    },
    {
     "name": "stdin",
     "output_type": "stream",
     "text": [
      "USER: yes\n"
     ]
    },
    {
     "name": "stdout",
     "output_type": "stream",
     "text": [
      "Very well, I will then explain how the game works. I will show you a image of a recipe and you can try to guess what recipe it is.\n",
      "The first time you fail, it will be shown the ingredients. If you fail the second time, It will be shown each step until you guess it right!\n",
      "You lose the game if at the end of the steps, you did not got a close answer\n"
     ]
    },
    {
     "data": {
      "text/html": [
       "\n",
       "      <div class = \"stepImage\">\n",
       "       <img src=\"https://m.media-amazon.com/images/S/alexa-kitchen-msa-na-prod/recipes/foodnetwork/649c0783618c448c27b0404fe01738e19efd65206dc5fa24df59157f6567d248.jpg\" class=\"img-responsive\" width=\"300\" heigth =\"400\">\n",
       "       <br><br>\n",
       "    "
      ],
      "text/plain": [
       "<IPython.core.display.HTML object>"
      ]
     },
     "metadata": {},
     "output_type": "display_data"
    },
    {
     "name": "stdin",
     "output_type": "stream",
     "text": [
      "USER: fish\n"
     ]
    },
    {
     "name": "stdout",
     "output_type": "stream",
     "text": [
      "Try again!\n",
      "You are getting closer!\n",
      "Your score is 0.0%\n",
      "These are the ingredients of the recipe:\n",
      " -1 (5 to 6 pound) free-range chicken (including neck and giblets, for gravy)\n",
      " -1 tablespoon butter\n",
      " -½ lemon sliced\n",
      " -Stuffing, recipe follows\n",
      " -6 slices streaky smoked bacon\n",
      " -Salt and freshly ground pepper\n",
      " -2 tablespoons sunflower oil\n",
      " -1 medium onion peeled\n",
      " -Chicken neck and giblets\n",
      " -1 bay leaf\n",
      " -1 small onion\n",
      " -1 carrot, cut into pieces\n",
      " -8 peppercorns\n",
      " -2 tablespoons all-purpose flour\n",
      " -Splash white wine, if desired\n",
      " -Roast Potatoes, recipe follows\n",
      " -Serving suggestion: gravy, stuffing and roast potatoes\n",
      " -1 -ounce butter\n",
      " -1 small onion finely chopped\n",
      " -1 tablespoon fresh sage finely chopped\n",
      " -1 small bunch parsley, leaves finely chopped\n",
      " -2 ounces fresh bread crumbs\n",
      " -1 egg, beaten\n",
      " -½ lemon, juiced\n",
      " -Lemon rind, grated\n",
      " -Salt and freshly ground black pepper\n",
      " -12 potatoes, peeled\n",
      " -Flour, for coating\n",
      " -2 tablespoons sunflower oil, for roasting\n"
     ]
    },
    {
     "name": "stdin",
     "output_type": "stream",
     "text": [
      "USER: fish\n"
     ]
    },
    {
     "name": "stdout",
     "output_type": "stream",
     "text": [
      "Try again!\n",
      "Colder... You were closer last try\n",
      "Your score is 0.0%\n",
      "Step 1- Position an oven rack in the middle of the oven and preheat to 425 degrees F.\n"
     ]
    },
    {
     "data": {
      "text/html": [
       "\n",
       "      <div class = \"stepImage\">\n",
       "       <img src=\"https://m.media-amazon.com/images/S/alexa-kitchen-msa-na-prod/recipes/sidechef/1e67decc8bff7f6df02655df71c2ddfc24cebf5abb80b41bc2271a0c62b89b32.jpg\" class=\"img-responsive\" width=\"300\" heigth =\"400\">\n",
       "       <br><br>\n",
       "    "
      ],
      "text/plain": [
       "<IPython.core.display.HTML object>"
      ]
     },
     "metadata": {},
     "output_type": "display_data"
    },
    {
     "name": "stdin",
     "output_type": "stream",
     "text": [
      "USER: fish\n"
     ]
    },
    {
     "name": "stdout",
     "output_type": "stream",
     "text": [
      "Try again!\n",
      "Colder... You were closer last try\n",
      "Your score is 0.0%\n",
      "Step 2- To prepare the chicken, lift the skin gently with a knife and insert some small pieces of butter and slices of lemon under the breast.\n"
     ]
    },
    {
     "data": {
      "text/html": [
       "\n",
       "      <div class = \"stepImage\">\n",
       "       <img src=\"https://m.media-amazon.com/images/S/alexa-kitchen-msa-na-prod/recipes/sidechef/08c1210a9d8c94b9c0b14957f05efc98da3e492779d7ee4b5f792212a60b4944.jpg\" class=\"img-responsive\" width=\"300\" heigth =\"400\">\n",
       "       <br><br>\n",
       "    "
      ],
      "text/plain": [
       "<IPython.core.display.HTML object>"
      ]
     },
     "metadata": {},
     "output_type": "display_data"
    },
    {
     "name": "stdin",
     "output_type": "stream",
     "text": [
      "USER: fish\n"
     ]
    },
    {
     "name": "stdout",
     "output_type": "stream",
     "text": [
      "Try again!\n",
      "Colder... You were closer last try\n",
      "Your score is 0.0%\n",
      "Step 3- Make a ball of the stuffing and place in the cavity. Tie the chicken together with a string. Lay 6 pieces of streaky smoked bacon over the chicken. Season with salt and freshly ground pepper. Rub salt and butter into the skin. Heat oil in roasting pan and put the chicken and the onion into it. Cook for 1 hour and 30 minutes. Baste the chicken thoroughly every 20 minutes. After 1 hour and 10 minutes remove the crispy bacon slices and place them on a dish for serving. Return the chicken to the oven for another 20 minutes.\n"
     ]
    },
    {
     "data": {
      "text/html": [
       "\n",
       "      <div class = \"stepImage\">\n",
       "       <img src=\"https://m.media-amazon.com/images/S/alexa-kitchen-msa-na-prod/recipes/sidechef/f8f391a931a38e6d89bbc28913e0f5fb9b95c4eca1d3731ba6e79461fa06742f.jpeg\" class=\"img-responsive\" width=\"300\" heigth =\"400\">\n",
       "       <br><br>\n",
       "    "
      ],
      "text/plain": [
       "<IPython.core.display.HTML object>"
      ]
     },
     "metadata": {},
     "output_type": "display_data"
    },
    {
     "name": "stdin",
     "output_type": "stream",
     "text": [
      "USER: fish\n"
     ]
    },
    {
     "name": "stdout",
     "output_type": "stream",
     "text": [
      "Try again!\n",
      "Colder... You were closer last try\n",
      "Your score is 0.0%\n",
      "Step 4- While the Chicken is cooking, start the gravy:\n"
     ]
    },
    {
     "data": {
      "text/html": [
       "\n",
       "      <div class = \"stepImage\">\n",
       "       <img src=\"https://m.media-amazon.com/images/S/alexa-kitchen-msa-na-prod/recipes/sidechef/dadb81a095fa27ea769eef3a9a00663a8be53b0a8586f7da8cea2d3fa8fc250d.png\" class=\"img-responsive\" width=\"300\" heigth =\"400\">\n",
       "       <br><br>\n",
       "    "
      ],
      "text/plain": [
       "<IPython.core.display.HTML object>"
      ]
     },
     "metadata": {},
     "output_type": "display_data"
    },
    {
     "name": "stdin",
     "output_type": "stream",
     "text": [
      "USER: fish\n"
     ]
    },
    {
     "name": "stdout",
     "output_type": "stream",
     "text": [
      "Try again!\n",
      "Colder... You were closer last try\n",
      "Your score is 0.0%\n",
      "Step 5- To make stock, combine the giblets with a bay leaf and an onion in a saucepan. Cover with water and bring to a boil. Add carrot and peppercorns. When the chicken is cooked, transfer it to a plate and keep warm. Put the roasting tin on heat and drain off fat with a spoon. Add 2 tablespoons of flour to the juice. Keep stirring. When the juice is brown add the stock. Sieve the gravy to remove any lumps. Add a splash of white wine if desired.\n"
     ]
    },
    {
     "data": {
      "text/html": [
       "\n",
       "      <div class = \"stepImage\">\n",
       "       <img src=\"https://m.media-amazon.com/images/S/alexa-kitchen-msa-na-prod/recipes/sidechef/a949ee551ec53beefc589ba28507f3e34c471b5f9f946ee95690471e1ee22eca.jpg\" class=\"img-responsive\" width=\"300\" heigth =\"400\">\n",
       "       <br><br>\n",
       "    "
      ],
      "text/plain": [
       "<IPython.core.display.HTML object>"
      ]
     },
     "metadata": {},
     "output_type": "display_data"
    },
    {
     "name": "stdin",
     "output_type": "stream",
     "text": [
      "USER: fish\n"
     ]
    },
    {
     "name": "stdout",
     "output_type": "stream",
     "text": [
      "Try again!\n",
      "Colder... You were closer last try\n",
      "Your score is 0.0%\n",
      "Step 6- In a medium saucepan melt the butter and sweat the onions until translucent. Combine the chopped herbs, breadcrumbs, beaten egg, lemon juice and zest in a medium-mixing bowl. Add onions and mix thoroughly.\n"
     ]
    },
    {
     "data": {
      "text/html": [
       "\n",
       "      <div class = \"stepImage\">\n",
       "       <img src=\"https://m.media-amazon.com/images/S/alexa-kitchen-msa-na-prod/recipes/sidechef/a949ee551ec53beefc589ba28507f3e34c471b5f9f946ee95690471e1ee22eca.jpg\" class=\"img-responsive\" width=\"300\" heigth =\"400\">\n",
       "       <br><br>\n",
       "    "
      ],
      "text/plain": [
       "<IPython.core.display.HTML object>"
      ]
     },
     "metadata": {},
     "output_type": "display_data"
    },
    {
     "name": "stdin",
     "output_type": "stream",
     "text": [
      "USER: fish\n"
     ]
    },
    {
     "name": "stdout",
     "output_type": "stream",
     "text": [
      "Try again!\n",
      "Colder... You were closer last try\n",
      "Your score is 0.0%\n",
      "Step 7- Preheat oven to 425 degrees F.\n"
     ]
    },
    {
     "data": {
      "text/html": [
       "\n",
       "      <div class = \"stepImage\">\n",
       "       <img src=\"https://m.media-amazon.com/images/S/alexa-kitchen-msa-na-prod/recipes/sidechef/dd517eed5dcc6e25781b63ff7b7752d144e78da598e6e951acf61c9965372be8.png\" class=\"img-responsive\" width=\"300\" heigth =\"400\">\n",
       "       <br><br>\n",
       "    "
      ],
      "text/plain": [
       "<IPython.core.display.HTML object>"
      ]
     },
     "metadata": {},
     "output_type": "display_data"
    },
    {
     "name": "stdin",
     "output_type": "stream",
     "text": [
      "USER: fish\n"
     ]
    },
    {
     "name": "stdout",
     "output_type": "stream",
     "text": [
      "Try again!\n",
      "Colder... You were closer last try\n",
      "Your score is 0.0%\n",
      "You lost! The correct recipe title was: English Roast Chicken. You have now 1 wins and 1 losses. Better luck next time! Is there anything else I can do for you?\n"
     ]
    },
    {
     "name": "stdin",
     "output_type": "stream",
     "text": [
      "USER: no\n"
     ]
    },
    {
     "name": "stdout",
     "output_type": "stream",
     "text": [
      "What can I do for you then? If you want to play game respond Play Game.\n"
     ]
    },
    {
     "name": "stdin",
     "output_type": "stream",
     "text": [
      "USER: goodbyew\n"
     ]
    },
    {
     "name": "stdout",
     "output_type": "stream",
     "text": [
      "\n",
      "I hope I helped you, have a good day\n"
     ]
    }
   ],
   "source": [
    "from random import randrange\n",
    "print(\"Hello, I am a TaskBot and I can help you with cooking tasks. Can I help you? If you do not know what to eat and want to play a game to challenge you apetite respond \\033[1mPlay game\\033[0m!\")\n",
    "print(\"Respond \\033[1mHelp\\033[0m for more information.\")\n",
    "intentResponse = ''\n",
    "userWins = 0\n",
    "userLoss = 0\n",
    "while intentResponse != 'AMAZON.StopIntent':\n",
    "    phrase = input(\"USER:\")\n",
    "    phrase = phrase.lower()\n",
    "    intentResponse = computeIntent(phrase);\n",
    "    if (intentResponse == 'IdentifyProcessIntent'):\n",
    "        firstRecipePhrase = phrase\n",
    "        recipeNumber = identifyProcessResponse(phrase, 0)\n",
    "        recipe = data[str(recipeNumber)]\n",
    "        print(\"I know lots of recipes. Here is a tasteful one. Do you want this one?\")\n",
    "        recipeName = recipe['displayName']\n",
    "        print ('\\033[1m' + recipeName + '\\033[0m')\n",
    "        showRecipeImage(recipeNumber, recipeName)\n",
    "        phrase = input(\"USER:\")\n",
    "        intentResponse = computeIntent(phrase);\n",
    "        if intentResponse ==  'AMAZON.NoIntent':\n",
    "            recipeNumber = identifyProcessResponse(firstRecipePhrase, 1)\n",
    "            recipe = data[str(recipeNumber)]\n",
    "            recipeName = recipe['displayName']\n",
    "            print(\"Here is another tasteful one. Do you want this one?\")\n",
    "            print ('\\033[1m' + recipeName + '\\033[0m')\n",
    "            showRecipeImage(recipeNumber, recipeName)\n",
    "            phrase = input(\"USER:\")\n",
    "            intentResponse = computeIntent(phrase);\n",
    "            if intentResponse == 'AMAZON.NoIntent':\n",
    "                print(\"Try to be more specific on the recipe you want.\")\n",
    "            else:\n",
    "                print (\"Do you want to check first the ingredients of \" + recipeName +\"?\")\n",
    "                phrase = input(\"USER:\")\n",
    "                intentResponse = computeIntent(phrase);\n",
    "                if intentResponse == 'AMAZON.YesIntent':\n",
    "                    print (\"These are the ingredients you need:\")\n",
    "                    ingredients = recipe ['ingredients']\n",
    "                    for x in range(len(ingredients)):\n",
    "                        print (\" -\" + str(recipe['ingredients'][x]['displayText'])) \n",
    "                print (\"Are you ready to start?\")\n",
    "                phrase = input(\"USER:\")\n",
    "                intentResponse = computeIntent(phrase);\n",
    "                if intentResponse == 'AMAZON.YesIntent':\n",
    "                    print (\"Okay let's get started! Here is the first step, if you want to continue just say next or another similar thing\" +\n",
    "                               \" back to go to the previous step or you can stop at any moment because you are a really bad cooker\")\n",
    "                    stepCounter = 0; \n",
    "                    numberOfSteps = len(recipe['instructions']);\n",
    "                    showSteps(str(stepCounter +1), str(recipe['instructions'][stepCounter]['stepText']))\n",
    "                    showStepsImage (recipeNumber, stepCounter, str(recipe['instructions'][stepCounter]['stepText']))\n",
    "                    while intentResponse != 'AMAZON.StopIntent':\n",
    "                        phrase = input(\"USER:\")\n",
    "                        intentResponse = computeIntent(phrase);\n",
    "                        if intentResponse == 'NextStepIntent':\n",
    "                            if stepCounter == numberOfSteps - 1:\n",
    "                                intentResponse = 'AMAZON.StopIntent'\n",
    "                            else:\n",
    "                                stepCounter += 1\n",
    "                                showSteps(str(stepCounter +1), str(recipe['instructions'][stepCounter]['stepText']))\n",
    "                                showStepsImage (recipeNumber, stepCounter, str(recipe['instructions'][stepCounter]['stepText']))\n",
    "                        elif intentResponse == 'PreviousStepIntent':\n",
    "                            if stepCounter == 0:\n",
    "                                print (\"Easyyyyyyyyy, there is nothing do before this, you are still in the first step.\")\n",
    "                            else:\n",
    "                                stepCounter -= 1\n",
    "                                showSteps(str(stepCounter +1), str(recipe['instructions'][stepCounter]['stepText']))\n",
    "                                showStepsImage (recipeNumber, stepCounter, str(recipe['instructions'][stepCounter]['stepText']))\n",
    "                        elif intentResponse == 'AMAZON.StopIntent':\n",
    "                            print()\n",
    "                        else:\n",
    "                            print (\"I am not sure I understand. Use next, back or stop or any similar word.\")\n",
    "                intentResponse = ''\n",
    "                if stepCounter == numberOfSteps -1:\n",
    "                    print (\"You just finished, I hope it tastes good. Is there anything more I can help with?\")\n",
    "                else :\n",
    "                    print (\"No problem on giving up, tell me another thing you want.\")        \n",
    "        elif intentResponse == 'AMAZON.YesIntent':\n",
    "            print (\"Do you want to check first the ingredients of \" + recipeName +\"?\")\n",
    "            phrase = input(\"USER:\")\n",
    "            intentResponse = computeIntent(phrase);\n",
    "            if intentResponse == 'AMAZON.YesIntent':\n",
    "                print (\"These are the ingredients you need:\")\n",
    "                ingredients = recipe ['ingredients']\n",
    "                for x in range(len(ingredients)):\n",
    "                    print (\" -\" + str(recipe['ingredients'][x]['displayText']))\n",
    "            print (\"Are you ready to start?\")\n",
    "            phrase = input(\"USER:\")\n",
    "            intentResponse = computeIntent(phrase);\n",
    "            if intentResponse == 'AMAZON.YesIntent' or intentResponse =='StartStepsIntent' :\n",
    "                print (\"Okay let's get started! Here is the first step, if you want to continue just say next or another similar thing\" +\n",
    "                           \" back to go to the previous step or you can stop at any moment because you are a really bad cooker\")\n",
    "                stepCounter = 0; \n",
    "                numberOfSteps = len(recipe['instructions']);\n",
    "                showSteps(str(stepCounter +1), str(recipe['instructions'][stepCounter]['stepText']))\n",
    "                showStepsImage (recipeNumber, stepCounter, str(recipe['instructions'][stepCounter]['stepText']))\n",
    "                while intentResponse != 'AMAZON.StopIntent':\n",
    "                    phrase = input(\"USER:\")\n",
    "                    intentResponse = computeIntent(phrase);\n",
    "                    if intentResponse == 'NextStepIntent':\n",
    "                        if stepCounter == numberOfSteps - 1:\n",
    "                            intentResponse = 'AMAZON.StopIntent'\n",
    "                        else:\n",
    "                            stepCounter += 1\n",
    "                            showSteps(str(stepCounter +1), str(recipe['instructions'][stepCounter]['stepText']))\n",
    "                            showStepsImage (recipeNumber, stepCounter, str(recipe['instructions'][stepCounter]['stepText']))\n",
    "                    elif intentResponse == 'PreviousStepIntent':\n",
    "                        if stepCounter == 0:\n",
    "                            print (\"Easyyyyyyyyy, there is nothing do before this, you are still in the first step.\")\n",
    "                        else:\n",
    "                            stepCounter -= 1\n",
    "                            showSteps(str(stepCounter +1), str(recipe['instructions'][stepCounter]['stepText']))\n",
    "                            showStepsImage (recipeNumber, stepCounter, str(recipe['instructions'][stepCounter]['stepText']))\n",
    "                    elif intentResponse == 'AMAZON.StopIntent':\n",
    "                        print()\n",
    "                    else:\n",
    "                        print (\"I am not sure I understand. Use next, back or stop or any similar word.\")\n",
    "            intentResponse = ''\n",
    "            if stepCounter == numberOfSteps -1:\n",
    "                print (\"You just finished, I hope it tastes good. Is there anything more I can help with?\")\n",
    "            else :\n",
    "                print (\"No problem on giving up, tell me another thing you want.\")\n",
    "    elif intentResponse ==  'OutOfScopeIntent':\n",
    "        print('Welcome to the recipe game, where I show you an image of a recipe and you have to guess what it is! Are you ready to start?')\n",
    "        phrase = input(\"USER:\")\n",
    "        intentResponse = computeIntent(phrase);\n",
    "        if intentResponse ==  'AMAZON.YesIntent':\n",
    "            print (\"Very well, I will then explain how the game works. I will show you a image of a recipe and you can try to guess what recipe it is.\")\n",
    "            print(\"The first time you fail, it will be shown the ingredients. If you fail the second time, It will be shown each step until you guess it right!\")\n",
    "            print(\"You lose the game if at the end of the steps, you did not got a close answer\")\n",
    "            recipeNumber = randrange(994)\n",
    "            recipe = data[str(recipeNumber)]\n",
    "            recipeName = recipe['displayName']\n",
    "            showRecipeImage(recipeNumber, recipeName)\n",
    "            numberOfSteps = len(recipe['instructions']);\n",
    "            counter = 0\n",
    "            oldSimValue = 0\n",
    "            while counter != 1 + numberOfSteps:\n",
    "                phrase = input(\"USER:\")\n",
    "                if(computeIntent(phrase) == 'AMAZON.StopIntent'):\n",
    "                    intentResponse = ''\n",
    "                    print(\"I see you do not want to play with me anymore. What can I do for you then?\")\n",
    "                    break\n",
    "                simValue = guessSimilarity(recipeName, phrase)\n",
    "                if(simValue.item() >= 0.70):\n",
    "                    userWins+=1\n",
    "                    print(\"Congratsssssss, you won. You have now \"+str(userWins)+\" wins and \"+str(userLoss)+\" losses. What else can I do for you? \")\n",
    "                    intentResponse = ''\n",
    "                    break\n",
    "                else:\n",
    "                    print(\"Try again!\") \n",
    "                    if simValue > oldSimValue:\n",
    "                        print(\"You are getting closer!\")\n",
    "                    else:\n",
    "                        print(\"Colder... You were closer last try\")\n",
    "                    print(\"Your score is \"+ str(round(simValue.item(), 1)*100) +\"%\")\n",
    "                    if counter == 0:\n",
    "                        print (\"These are the ingredients of the recipe:\")\n",
    "                        ingredients = recipe ['ingredients']\n",
    "                        for x in range(len(ingredients)):\n",
    "                            print (\" -\" + str(recipe['ingredients'][x]['displayText'])) \n",
    "                        stepCounter = 0;\n",
    "                        oldSimValue = simValue\n",
    "                    elif stepCounter == numberOfSteps - 1:\n",
    "                        userLoss+=1\n",
    "                        print(\"You lost! The correct recipe title was: \" + recipeName + \". You have now \"+str(userWins)+\" wins and \"+str(userLoss)+\" losses.\"+\n",
    "                              \" Better luck next time! Is there anything else I can do for you?\")\n",
    "                        intentResponse = ''\n",
    "                        break\n",
    "                    else:\n",
    "                        numberOfSteps = len(recipe['instructions']);\n",
    "                        print (\"Step \" + str(stepCounter +1) + \"- \" + str(recipe['instructions'][stepCounter]['stepText']))\n",
    "                        showStepsImage (recipeNumber, stepCounter, str(recipe['instructions'][stepCounter]['stepText']))\n",
    "                        stepCounter += 1\n",
    "                        oldSimValue = simValue\n",
    "                    counter += 1\n",
    "        else:\n",
    "            intentResponse = ''\n",
    "            print(\"I see that you do not want to play. What can I do for you?\")\n",
    "    elif intentResponse ==  'AMAZON.YesIntent':\n",
    "        print (\"What would you like to eat?\")\n",
    "    elif intentResponse == 'AMAZON.StopIntent':\n",
    "        print () \n",
    "    elif intentResponse == 'AMAZON.NoIntent':\n",
    "        print (\"What can I do for you then? If you want to play game respond Play Game.\")\n",
    "    elif intentResponse == 'AMAZON.HelpIntent':\n",
    "        print(\"Here is some suggestions that you can ask me:\")\n",
    "        print(\" \\033[1m- I want a chicken recipe\\033[0m and I will describe all the details of the desired recipe.\")\n",
    "        print(\" \\033[1m- Play Game\\033[0m so we can play a fun game!\")\n",
    "    else :\n",
    "        print (\"Can you be more specific please. Ask me for a recipe or type No if you want to play a game\")\n",
    "    \n",
    "    \n",
    "    \n",
    "print (\"I hope I helped you, have a good day\")"
   ]
  },
  {
   "cell_type": "code",
   "execution_count": null,
   "id": "1b2f691f-4e31-4ef5-a034-4ff1a625498a",
   "metadata": {},
   "outputs": [],
   "source": []
  },
  {
   "cell_type": "code",
   "execution_count": null,
   "id": "6b3495b9-92f3-476b-830f-4b4738e7d9cf",
   "metadata": {},
   "outputs": [],
   "source": []
  }
 ],
 "metadata": {
  "kernelspec": {
   "display_name": "NLP & IR",
   "language": "python",
   "name": "nlp-ir"
  },
  "language_info": {
   "codemirror_mode": {
    "name": "ipython",
    "version": 3
   },
   "file_extension": ".py",
   "mimetype": "text/x-python",
   "name": "python",
   "nbconvert_exporter": "python",
   "pygments_lexer": "ipython3",
   "version": "3.8.12"
  }
 },
 "nbformat": 4,
 "nbformat_minor": 5
}
