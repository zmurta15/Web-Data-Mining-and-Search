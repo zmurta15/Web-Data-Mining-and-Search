{
 "cells": [
  {
   "cell_type": "code",
   "execution_count": null,
   "id": "9b9bccdb-5585-47be-b8a9-ef0c2a06fdf9",
   "metadata": {},
   "outputs": [],
   "source": [
    "import json as json\n",
    "\n",
    "with open(\"json_data.json\", \"r\") as read_file:\n",
    "    data = json.load(read_file)"
   ]
  },
  {
   "cell_type": "code",
   "execution_count": null,
   "id": "f934a6af-51e0-4fec-8590-7253d4fcd44e",
   "metadata": {},
   "outputs": [],
   "source": [
    "j = len(data)\n",
    "str(j)"
   ]
  },
  {
   "cell_type": "code",
   "execution_count": null,
   "id": "ae44f886-980b-4b89-8fe3-cb1a4c5b44e1",
   "metadata": {},
   "outputs": [],
   "source": [
    "\n",
    "# Title and description\n",
    "data['0']['displayName']\n",
    "data['0']['description']\n",
    "\n",
    "# Tools\n",
    "data['0']['tools'][0]\n",
    "data['0']['tools'][1]\n",
    "data['0']['tools'][2]\n",
    "\n",
    "# Ingredients\n",
    "data['0']['ingredients'][0]\n",
    "data['0']['ingredients'][1]\n",
    "data['0']['ingredients'][2]\n",
    "\n",
    "# Steps\n",
    "data['0']['instructions'][0]\n",
    "data['0']['instructions'][1]\n",
    "data['0']['instructions'][2]\n"
   ]
  }
 ],
 "metadata": {
  "kernelspec": {
   "display_name": "NLP & IR",
   "language": "python",
   "name": "nlp-ir"
  },
  "language_info": {
   "codemirror_mode": {
    "name": "ipython",
    "version": 3
   },
   "file_extension": ".py",
   "mimetype": "text/x-python",
   "name": "python",
   "nbconvert_exporter": "python",
   "pygments_lexer": "ipython3",
   "version": "3.8.12"
  },
  "toc-autonumbering": true
 },
 "nbformat": 4,
 "nbformat_minor": 5
}
